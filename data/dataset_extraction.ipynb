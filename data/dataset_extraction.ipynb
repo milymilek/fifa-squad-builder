{
 "cells": [
  {
   "cell_type": "code",
   "execution_count": 1,
   "id": "4f08e47f-a2ed-4007-9ccc-9217f72733dc",
   "metadata": {},
   "outputs": [
    {
     "name": "stderr",
     "output_type": "stream",
     "text": [
      "C:\\Users\\Milosz\\anaconda3\\lib\\site-packages\\IPython\\core\\interactiveshell.py:3444: DtypeWarning: Columns (25,108) have mixed types.Specify dtype option on import or set low_memory=False.\n",
      "  exec(code_obj, self.user_global_ns, self.user_ns)\n"
     ]
    }
   ],
   "source": [
    "import pandas as pd\n",
    "import numpy as np\n",
    "x = pd.read_csv(\"datasets/players_22.csv\")"
   ]
  },
  {
   "cell_type": "code",
   "execution_count": 2,
   "id": "e20f93de-01d2-4a1c-984e-b6b5958cdb09",
   "metadata": {},
   "outputs": [],
   "source": [
    "x = x.rename(columns={'short_name': 'player_name', 'club_team_id': 'club_id'})"
   ]
  },
  {
   "cell_type": "code",
   "execution_count": 3,
   "id": "30704944-ac08-4c05-b470-ab1836564d5e",
   "metadata": {},
   "outputs": [],
   "source": [
    "player_cols = ['player_name', 'club_id', 'league_name', 'nationality_id', 'player_positions', 'overall', 'pace', 'shooting', 'passing', 'dribbling', 'defending', 'physic', \n",
    "        'goalkeeping_diving', 'goalkeeping_handling', 'goalkeeping_kicking', 'goalkeeping_positioning', \n",
    "        'goalkeeping_reflexes', 'goalkeeping_speed', 'ls', 'st', 'rs', 'lw', 'lf', 'cf', 'rf', 'rw', 'lam', 'cam',\n",
    "        'ram', 'lm', 'lcm', 'cm', 'rcm', 'rm', 'lwb', 'ldm', 'cdm', 'rdm', 'rwb', 'lb', 'lcb', 'cb', 'rcb', 'rb', 'gk']"
   ]
  },
  {
   "cell_type": "code",
   "execution_count": 4,
   "id": "cb6ffd30-c56f-4ae1-8246-e9ddde638172",
   "metadata": {},
   "outputs": [],
   "source": [
    "players = x[player_cols]\n",
    "clubs = x[['club_id', 'club_name']]\n",
    "leagues = x[['league_name']]\n",
    "nationality = x[['nationality_id', 'nationality_name']]"
   ]
  },
  {
   "cell_type": "code",
   "execution_count": 5,
   "id": "64d3ce55-349b-488f-a05c-510d8071a5c7",
   "metadata": {},
   "outputs": [
    {
     "name": "stderr",
     "output_type": "stream",
     "text": [
      "C:\\Users\\Milosz\\AppData\\Local\\Temp/ipykernel_6924/3260429088.py:1: SettingWithCopyWarning: \n",
      "A value is trying to be set on a copy of a slice from a DataFrame.\n",
      "Try using .loc[row_indexer,col_indexer] = value instead\n",
      "\n",
      "See the caveats in the documentation: https://pandas.pydata.org/pandas-docs/stable/user_guide/indexing.html#returning-a-view-versus-a-copy\n",
      "  players['player_id'] = np.arange(players.shape[0])\n"
     ]
    }
   ],
   "source": [
    "players['player_id'] = np.arange(players.shape[0])\n",
    "players = players.reindex(columns=['player_id'] + players.columns.tolist()[:-1])\n",
    "players[[\n",
    "    'pace', 'shooting', 'passing', 'dribbling', 'defending', 'physic', \n",
    "    'goalkeeping_diving', 'goalkeeping_handling', 'goalkeeping_kicking', 'goalkeeping_positioning', \n",
    "    'goalkeeping_reflexes', 'goalkeeping_speed'\n",
    "]] = players[[\n",
    "    'pace', 'shooting', 'passing', 'dribbling', 'defending', 'physic', \n",
    "    'goalkeeping_diving', 'goalkeeping_handling', 'goalkeeping_kicking', 'goalkeeping_positioning', \n",
    "    'goalkeeping_reflexes', 'goalkeeping_speed']].fillna(0)\n",
    "d = {'pace': int, 'shooting': int, 'passing': int, 'dribbling': int, 'defending': int, 'physic': int, 'goalkeeping_speed': int, 'lw': str, 'rw':str}\n",
    "players = players.astype(d)"
   ]
  },
  {
   "cell_type": "code",
   "execution_count": 7,
   "id": "58dc1f40-9b2f-44ad-9737-1c77a1c078e6",
   "metadata": {},
   "outputs": [],
   "source": [
    "players = players.dropna()"
   ]
  },
  {
   "cell_type": "code",
   "execution_count": 9,
   "id": "b88e378a-9c16-47ad-800a-b8c5692729b0",
   "metadata": {},
   "outputs": [],
   "source": [
    "clubs = clubs.drop_duplicates(subset='club_name').sort_values(by='club_id').iloc[:-1]\n",
    "clubs = clubs.astype({\"club_id\": int})"
   ]
  },
  {
   "cell_type": "code",
   "execution_count": 10,
   "id": "0d31a3e6-4b32-4d63-9b8f-b8a81eee5894",
   "metadata": {},
   "outputs": [],
   "source": [
    "leagues = leagues.drop_duplicates(subset='league_name').sort_values(by='league_name').iloc[:-1]\n",
    "leagues['league_id'] = np.arange(leagues.shape[0])\n",
    "leagues = leagues.reindex(columns=['league_id'] + leagues.columns.tolist()[:-1])"
   ]
  },
  {
   "cell_type": "code",
   "execution_count": 11,
   "id": "5fd974c7-b6eb-45e5-b574-f7c00809a44e",
   "metadata": {},
   "outputs": [],
   "source": [
    "nationality = nationality.drop_duplicates(subset='nationality_name').sort_values(by='nationality_id')"
   ]
  },
  {
   "cell_type": "code",
   "execution_count": 12,
   "id": "b283b204-98fe-4331-954b-7aff356fbf30",
   "metadata": {},
   "outputs": [
    {
     "name": "stderr",
     "output_type": "stream",
     "text": [
      "C:\\Users\\Milosz\\AppData\\Local\\Temp/ipykernel_6924/2392034133.py:2: SettingWithCopyWarning: \n",
      "A value is trying to be set on a copy of a slice from a DataFrame.\n",
      "Try using .loc[row_indexer,col_indexer] = value instead\n",
      "\n",
      "See the caveats in the documentation: https://pandas.pydata.org/pandas-docs/stable/user_guide/indexing.html#returning-a-view-versus-a-copy\n",
      "  players['league_id'] = players['league_name'].map(leagues_dict)\n"
     ]
    }
   ],
   "source": [
    "leagues_dict = {name: idx for name, idx in zip(leagues['league_name'], leagues['league_id'])}\n",
    "players['league_id'] = players['league_name'].map(leagues_dict)\n",
    "players = players.astype({\"league_id\": int, \"club_id\": int})\n",
    "players = players.drop('league_name', axis=1)"
   ]
  },
  {
   "cell_type": "code",
   "execution_count": 26,
   "id": "91245d77-cf7f-4d9a-9eca-c03b239ffe4d",
   "metadata": {},
   "outputs": [],
   "source": [
    "c_d = {name: idx for name, idx in zip(clubs['club_id'], clubs['club_name'])}\n",
    "l_d = {name: idx for name, idx in zip(leagues['league_id'], leagues['league_name'])}\n",
    "n_d = {name: idx for name, idx in zip(nationality['nationality_id'], nationality['nationality_name'])}"
   ]
  },
  {
   "cell_type": "code",
   "execution_count": 31,
   "id": "017f2d14-4cce-4423-83b4-24a59ad60f12",
   "metadata": {},
   "outputs": [
    {
     "data": {
      "text/plain": [
       "0        L. Messi Argentina Paris Saint-Germain French ...\n",
       "1        R. Lewandowski Poland FC Bayern München German...\n",
       "2        Cristiano Ronaldo Portugal Manchester United E...\n",
       "3        Neymar Jr Brazil Paris Saint-Germain French Li...\n",
       "4        K. De Bruyne Belgium Manchester City English P...\n",
       "                               ...                        \n",
       "19234     Song Defu China PR Wuhan FC Chinese Super League\n",
       "19235    C. Porter Republic of Ireland Derry City Rep. ...\n",
       "19236    N. Logue Republic of Ireland Finn Harps Rep. I...\n",
       "19237    L. Rudden Republic of Ireland Finn Harps Rep. ...\n",
       "19238    E. Lalchhanchhuaha India NorthEast United FC I...\n",
       "Length: 19178, dtype: object"
      ]
     },
     "execution_count": 31,
     "metadata": {},
     "output_type": "execute_result"
    }
   ],
   "source": [
    "players['player_name'] + \" \"+ players['nationality_id'].map(n_d) + \" \" +players['club_id'].map(c_d) + \" \" +players['league_id'].map(l_d) "
   ]
  },
  {
   "cell_type": "code",
   "execution_count": 32,
   "id": "57045f3d-e3cd-4381-ad31-4965541ee99f",
   "metadata": {},
   "outputs": [],
   "source": [
    "players.to_csv(\"players.csv\", index=False)"
   ]
  },
  {
   "cell_type": "code",
   "execution_count": null,
   "id": "5da0bb96-737f-44c8-826d-3ae8a3be2a3a",
   "metadata": {},
   "outputs": [],
   "source": [
    "clubs.to_csv(\"clubs.csv\", index=False)"
   ]
  },
  {
   "cell_type": "code",
   "execution_count": null,
   "id": "b98a23ed-f549-4f62-b0f6-0a1d9aa4c372",
   "metadata": {},
   "outputs": [],
   "source": [
    "leagues.to_csv(\"leagues.csv\", index=False)"
   ]
  },
  {
   "cell_type": "code",
   "execution_count": null,
   "id": "f2930593-aa0d-4355-b6e1-afc0e7c7b3a3",
   "metadata": {},
   "outputs": [],
   "source": [
    "nationality.to_csv(\"nationality.csv\", index=False)"
   ]
  },
  {
   "cell_type": "code",
   "execution_count": null,
   "id": "986f8bf6-9800-4cda-9bfa-13ecfb7df5c7",
   "metadata": {},
   "outputs": [],
   "source": []
  }
 ],
 "metadata": {
  "kernelspec": {
   "display_name": "Python 3 (ipykernel)",
   "language": "python",
   "name": "python3"
  },
  "language_info": {
   "codemirror_mode": {
    "name": "ipython",
    "version": 3
   },
   "file_extension": ".py",
   "mimetype": "text/x-python",
   "name": "python",
   "nbconvert_exporter": "python",
   "pygments_lexer": "ipython3",
   "version": "3.9.7"
  }
 },
 "nbformat": 4,
 "nbformat_minor": 5
}
